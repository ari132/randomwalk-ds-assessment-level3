{
 "cells": [
  {
   "cell_type": "code",
   "execution_count": 1,
   "id": "d3d3e6a7-36f8-44d9-ad4e-bf7d12676bd0",
   "metadata": {},
   "outputs": [],
   "source": [
    "import pandas as pd\n",
    "import matplotlib.pyplot as plt\n",
    "plt.style.use('ggplot')"
   ]
  },
  {
   "cell_type": "code",
   "execution_count": 2,
   "id": "aaf28a3e-896d-40a1-927f-037b3b21e180",
   "metadata": {},
   "outputs": [],
   "source": [
    "books = pd.read_csv(\"books.csv\")\n",
    "book_tags = pd.read_csv(\"book_tags.csv\")\n",
    "ratings = pd.read_csv(\"ratings.csv\")"
   ]
  },
  {
   "cell_type": "markdown",
   "id": "df5db4ba-70ad-443d-87fd-908b6d7da628",
   "metadata": {},
   "source": [
    "1) How many books do not have an original title [books.csv]?\n",
    "\n",
    "2) How many unique books are present in the dataset ? Evaluate based on the 'book_id' after removing records containing null values for original_title column in [books.csv] and corresponding records in [book_tags.csv] and [ratings.csv]\n",
    "\n",
    "3) How many unique users are present in the dataset [ratings.csv] ?\n",
    "\n",
    "4) How many unique tags are there in the dataset [book_tags.csv] ?\n",
    "\n",
    "5) Which tag_id  is the most frequently used ie. mapped with the highest number of books [book_tags.csv]  ? \n",
    "(In case of more than one tag, mention the tag id with the least numerical value)’.\n",
    "\n",
    "6) Which book (title) has the most number of counts of tags given by the user [book_tags.csv,books.csv] .\n",
    "\n",
    "7) Plot a bar chart with top 20 unique tags in descending order of ‘user records’ (the number of users tagged the given tag_id with the goodreads_book_id) [book_tags.csv]"
   ]
  },
  {
   "cell_type": "code",
   "execution_count": null,
   "id": "5e1c7b63-f5ae-4cb2-8702-d92457c6c9de",
   "metadata": {},
   "outputs": [],
   "source": []
  },
  {
   "cell_type": "code",
   "execution_count": 3,
   "id": "e879d81a-18f0-4eba-8cc8-d903a50b0477",
   "metadata": {},
   "outputs": [
    {
     "data": {
      "text/plain": [
       "Index(['goodreads_book_id', 'tag_id', 'count'], dtype='object')"
      ]
     },
     "execution_count": 3,
     "metadata": {},
     "output_type": "execute_result"
    }
   ],
   "source": [
    "ratings.columns\n",
    "book_tags.columns"
   ]
  },
  {
   "cell_type": "code",
   "execution_count": 4,
   "id": "e8b575d2-817b-4162-b655-4f3d7f2e7292",
   "metadata": {},
   "outputs": [
    {
     "name": "stdout",
     "output_type": "stream",
     "text": [
      "Number of books without original title: 36\n"
     ]
    }
   ],
   "source": [
    "count_books_no_title = books[\"original_title\"].isna().sum()\n",
    "print(f\"Number of books without original title: {count_books_no_title}\")"
   ]
  },
  {
   "cell_type": "code",
   "execution_count": 5,
   "id": "21e0341c-5327-4fc6-9bac-07218af2ca58",
   "metadata": {},
   "outputs": [],
   "source": [
    "books_cleaned = books.dropna(subset = [\"original_title\"])\n",
    "ratings_cleaned = ratings"
   ]
  },
  {
   "cell_type": "code",
   "execution_count": 6,
   "id": "955e4756-876c-4cde-b271-56b9cf8647ee",
   "metadata": {},
   "outputs": [],
   "source": [
    "combine = pd.concat([books_cleaned['book_id'], ratings_cleaned['book_id']])"
   ]
  },
  {
   "cell_type": "code",
   "execution_count": 7,
   "id": "d18ea624-be04-43a3-9924-bc1fa3da2f4a",
   "metadata": {},
   "outputs": [
    {
     "name": "stdout",
     "output_type": "stream",
     "text": [
      "399\n"
     ]
    }
   ],
   "source": [
    "count_unique_books = combine.nunique()\n",
    "print(count_unique_books)"
   ]
  },
  {
   "cell_type": "code",
   "execution_count": 8,
   "id": "a5f46c22-b11a-4dff-8168-0d29e8cd5091",
   "metadata": {},
   "outputs": [
    {
     "data": {
      "text/plain": [
       "40836"
      ]
     },
     "execution_count": 8,
     "metadata": {},
     "output_type": "execute_result"
    }
   ],
   "source": [
    "ratings['user_id'].nunique()"
   ]
  },
  {
   "cell_type": "code",
   "execution_count": 9,
   "id": "30d62ab8-9089-4fae-ad0c-d57b8208f3ea",
   "metadata": {},
   "outputs": [
    {
     "data": {
      "text/plain": [
       "3651"
      ]
     },
     "execution_count": 9,
     "metadata": {},
     "output_type": "execute_result"
    }
   ],
   "source": [
    "book_tags['tag_id'].nunique()"
   ]
  },
  {
   "cell_type": "code",
   "execution_count": 10,
   "id": "070af305-5a04-4bbf-a2ed-b89d314de4f3",
   "metadata": {},
   "outputs": [
    {
     "data": {
      "text/plain": [
       "tag_id\n",
       "4600     402\n",
       "21689    401\n",
       "30574    400\n",
       "4605     400\n",
       "21773    399\n",
       "        ... \n",
       "7419       1\n",
       "16912      1\n",
       "11917      1\n",
       "22583      1\n",
       "25370      1\n",
       "Name: count, Length: 3651, dtype: int64"
      ]
     },
     "execution_count": 10,
     "metadata": {},
     "output_type": "execute_result"
    }
   ],
   "source": [
    "book_tags['tag_id'].value_counts()"
   ]
  },
  {
   "cell_type": "code",
   "execution_count": 15,
   "id": "92238604-59b7-4eed-85b7-1ee4dc5142e8",
   "metadata": {},
   "outputs": [],
   "source": [
    "whole =  pd.merge(books, book_tags, on='goodreads_book_id', how='inner')"
   ]
  },
  {
   "cell_type": "code",
   "execution_count": 32,
   "id": "0a46491e-b2d3-44b9-8571-4a8fe9819606",
   "metadata": {},
   "outputs": [],
   "source": [
    "count = whole.groupby('book_id')['tag_id'].count().reset_index()"
   ]
  },
  {
   "cell_type": "code",
   "execution_count": 33,
   "id": "4e1a90de-448c-458f-a9d2-da378a123425",
   "metadata": {},
   "outputs": [
    {
     "name": "stdout",
     "output_type": "stream",
     "text": [
      "     book_id  tag_id\n",
      "0         15     100\n",
      "1         40     100\n",
      "2         81     100\n",
      "3         82     100\n",
      "4         87     100\n",
      "..       ...     ...\n",
      "394     9788     100\n",
      "395     9847     100\n",
      "396     9887     100\n",
      "397     9960     100\n",
      "398     9968     100\n",
      "\n",
      "[399 rows x 2 columns]\n"
     ]
    }
   ],
   "source": [
    "print(count)"
   ]
  },
  {
   "cell_type": "code",
   "execution_count": 30,
   "id": "f7e918f1-1cdb-47b3-9057-61f08bd1a66d",
   "metadata": {},
   "outputs": [],
   "source": [
    "max_tag_book = count.loc[count['tag_id'].idxmax()]"
   ]
  },
  {
   "cell_type": "code",
   "execution_count": 31,
   "id": "d059931e-c59b-4ffe-9f6d-3217d30ebb15",
   "metadata": {},
   "outputs": [
    {
     "name": "stdout",
     "output_type": "stream",
     "text": [
      "book_id     15\n",
      "tag_id     100\n",
      "Name: 0, dtype: int64\n"
     ]
    }
   ],
   "source": [
    "print(max_tag_book)"
   ]
  },
  {
   "cell_type": "code",
   "execution_count": null,
   "id": "8d476c47-ca70-4848-9eb7-26342f4bf806",
   "metadata": {},
   "outputs": [],
   "source": []
  }
 ],
 "metadata": {
  "kernelspec": {
   "display_name": "Python 3 (ipykernel)",
   "language": "python",
   "name": "python3"
  },
  "language_info": {
   "codemirror_mode": {
    "name": "ipython",
    "version": 3
   },
   "file_extension": ".py",
   "mimetype": "text/x-python",
   "name": "python",
   "nbconvert_exporter": "python",
   "pygments_lexer": "ipython3",
   "version": "3.10.12"
  }
 },
 "nbformat": 4,
 "nbformat_minor": 5
}
